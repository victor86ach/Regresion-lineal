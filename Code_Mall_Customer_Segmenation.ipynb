{
  "cells": [
    {
      "cell_type": "markdown",
      "metadata": {
        "id": "view-in-github",
        "colab_type": "text"
      },
      "source": [
        "<a href=\"https://colab.research.google.com/github/victor86ach/Regresion-lineal/blob/main/Code_Mall_Customer_Segmenation.ipynb\" target=\"_parent\"><img src=\"https://colab.research.google.com/assets/colab-badge.svg\" alt=\"Open In Colab\"/></a>"
      ]
    },
    {
      "cell_type": "markdown",
      "source": [
        "Victor casas"
      ],
      "metadata": {
        "id": "OMsaa9aZoCzw"
      },
      "id": "OMsaa9aZoCzw"
    },
    {
      "cell_type": "markdown",
      "id": "ea9fee1c",
      "metadata": {
        "id": "ea9fee1c"
      },
      "source": [
        "# Mall Customer Segmenation Project"
      ]
    },
    {
      "cell_type": "markdown",
      "id": "6824a924",
      "metadata": {
        "id": "6824a924"
      },
      "source": [
        ".."
      ]
    },
    {
      "cell_type": "code",
      "execution_count": null,
      "id": "e556d42f",
      "metadata": {
        "id": "e556d42f"
      },
      "outputs": [],
      "source": [
        "# import all library\n",
        "import numpy as np\n",
        "import pandas as pd\n",
        "import matplotlib.pyplot as plt\n",
        "import seaborn as sns"
      ]
    },
    {
      "cell_type": "code",
      "execution_count": null,
      "id": "9f16189e",
      "metadata": {
        "id": "9f16189e",
        "outputId": "53af7496-5eba-4f5c-8fe1-ca6aa2fc3780"
      },
      "outputs": [
        {
          "data": {
            "text/html": [
              "<div>\n",
              "<style scoped>\n",
              "    .dataframe tbody tr th:only-of-type {\n",
              "        vertical-align: middle;\n",
              "    }\n",
              "\n",
              "    .dataframe tbody tr th {\n",
              "        vertical-align: top;\n",
              "    }\n",
              "\n",
              "    .dataframe thead th {\n",
              "        text-align: right;\n",
              "    }\n",
              "</style>\n",
              "<table border=\"1\" class=\"dataframe\">\n",
              "  <thead>\n",
              "    <tr style=\"text-align: right;\">\n",
              "      <th></th>\n",
              "      <th>CustomerID</th>\n",
              "      <th>Genre</th>\n",
              "      <th>Age</th>\n",
              "      <th>Annual_Income_(k$)</th>\n",
              "      <th>Spending_Score</th>\n",
              "    </tr>\n",
              "  </thead>\n",
              "  <tbody>\n",
              "    <tr>\n",
              "      <th>0</th>\n",
              "      <td>1</td>\n",
              "      <td>Male</td>\n",
              "      <td>19</td>\n",
              "      <td>15</td>\n",
              "      <td>39</td>\n",
              "    </tr>\n",
              "    <tr>\n",
              "      <th>1</th>\n",
              "      <td>2</td>\n",
              "      <td>Male</td>\n",
              "      <td>21</td>\n",
              "      <td>15</td>\n",
              "      <td>81</td>\n",
              "    </tr>\n",
              "    <tr>\n",
              "      <th>2</th>\n",
              "      <td>3</td>\n",
              "      <td>Female</td>\n",
              "      <td>20</td>\n",
              "      <td>16</td>\n",
              "      <td>6</td>\n",
              "    </tr>\n",
              "    <tr>\n",
              "      <th>3</th>\n",
              "      <td>4</td>\n",
              "      <td>Female</td>\n",
              "      <td>23</td>\n",
              "      <td>16</td>\n",
              "      <td>77</td>\n",
              "    </tr>\n",
              "    <tr>\n",
              "      <th>4</th>\n",
              "      <td>5</td>\n",
              "      <td>Female</td>\n",
              "      <td>31</td>\n",
              "      <td>17</td>\n",
              "      <td>40</td>\n",
              "    </tr>\n",
              "  </tbody>\n",
              "</table>\n",
              "</div>"
            ],
            "text/plain": [
              "   CustomerID   Genre  Age  Annual_Income_(k$)  Spending_Score\n",
              "0           1    Male   19                  15              39\n",
              "1           2    Male   21                  15              81\n",
              "2           3  Female   20                  16               6\n",
              "3           4  Female   23                  16              77\n",
              "4           5  Female   31                  17              40"
            ]
          },
          "execution_count": 2,
          "metadata": {},
          "output_type": "execute_result"
        }
      ],
      "source": [
        "# import data and check first five rows\n",
        "df = pd.read_csv(\"Mall_Customers.csv\")\n",
        "df.head()"
      ]
    },
    {
      "cell_type": "markdown",
      "id": "503b92a8",
      "metadata": {
        "id": "503b92a8"
      },
      "source": [
        "## 2. Data Understanding\n",
        "2.1 Data source: This project is a part of the Mall Customer Segmentation Data competition held on Kaggle. <br>\n",
        "2.2 Exploratory data analysis (EDA): it is used to analyze and investigate data sets and summarize their main characteristics, often employing data visualization methods. The purpose is to understand data and encourage the following analytics. <br>\n",
        "2.3 Feature engeering: this step is to clean data and deal with the data issue. Since our data is pretty clean, we just rename the feature in an intuitive way."
      ]
    },
    {
      "cell_type": "code",
      "execution_count": null,
      "id": "d053c498",
      "metadata": {
        "id": "d053c498",
        "outputId": "2ea0bcef-9a23-499f-d93b-8de6e8ad449e"
      },
      "outputs": [
        {
          "name": "stdout",
          "output_type": "stream",
          "text": [
            "<class 'pandas.core.frame.DataFrame'>\n",
            "RangeIndex: 200 entries, 0 to 199\n",
            "Data columns (total 5 columns):\n",
            " #   Column              Non-Null Count  Dtype \n",
            "---  ------              --------------  ----- \n",
            " 0   CustomerID          200 non-null    int64 \n",
            " 1   Genre               200 non-null    object\n",
            " 2   Age                 200 non-null    int64 \n",
            " 3   Annual_Income_(k$)  200 non-null    int64 \n",
            " 4   Spending_Score      200 non-null    int64 \n",
            "dtypes: int64(4), object(1)\n",
            "memory usage: 7.9+ KB\n"
          ]
        }
      ],
      "source": [
        "# chech the data type\n",
        "df.info()"
      ]
    },
    {
      "cell_type": "markdown",
      "id": "12b281d5",
      "metadata": {
        "id": "12b281d5"
      },
      "source": [
        "**Observation**:  the DataFrame consists of 200 entries (rows) and 5 columns. And no missing data because all are not null. <br> Here's a description of each column:\n",
        "1. CustomerID: It is of type int64 and represents the unique identifier for each customer.\n",
        "2. Genre: It is of type object and represents the gender of the customer.\n",
        "3. Age: It is of type int64 and represents the age of the customer.\n",
        "4. Annual_Income_(k$): It is of type int64 and represents the annual income of the customer in thousands of dollars.\n",
        "5. Spending_Score: It is of type int64 and represents the spending score of the customer.\n",
        "Overall, the DataFrame contains columns with integer and object (string) data types. The memory usage of the DataFrame is approximately 7.9 KB."
      ]
    },
    {
      "cell_type": "code",
      "execution_count": null,
      "id": "13134ea9",
      "metadata": {
        "id": "13134ea9",
        "outputId": "20ec7b11-6632-48cc-cb87-9b18538fa7e2"
      },
      "outputs": [
        {
          "data": {
            "text/plain": [
              "array(['Male', 'Female'], dtype=object)"
            ]
          },
          "execution_count": 4,
          "metadata": {},
          "output_type": "execute_result"
        }
      ],
      "source": [
        "# chech the categorical data\n",
        "df.Genre.unique()"
      ]
    },
    {
      "cell_type": "markdown",
      "id": "8d1e45f8",
      "metadata": {
        "id": "8d1e45f8"
      },
      "source": [
        "The format for two categorical data is fine in our dataset."
      ]
    },
    {
      "cell_type": "code",
      "execution_count": null,
      "id": "e2adeb03",
      "metadata": {
        "id": "e2adeb03",
        "outputId": "168b980c-42a2-4c51-ee5b-2be5560f68ec"
      },
      "outputs": [
        {
          "data": {
            "text/html": [
              "<div>\n",
              "<style scoped>\n",
              "    .dataframe tbody tr th:only-of-type {\n",
              "        vertical-align: middle;\n",
              "    }\n",
              "\n",
              "    .dataframe tbody tr th {\n",
              "        vertical-align: top;\n",
              "    }\n",
              "\n",
              "    .dataframe thead th {\n",
              "        text-align: right;\n",
              "    }\n",
              "</style>\n",
              "<table border=\"1\" class=\"dataframe\">\n",
              "  <thead>\n",
              "    <tr style=\"text-align: right;\">\n",
              "      <th></th>\n",
              "      <th>CustomerID</th>\n",
              "      <th>Gender</th>\n",
              "      <th>Age</th>\n",
              "      <th>Income</th>\n",
              "      <th>Spend_score</th>\n",
              "    </tr>\n",
              "  </thead>\n",
              "  <tbody>\n",
              "    <tr>\n",
              "      <th>0</th>\n",
              "      <td>1</td>\n",
              "      <td>Male</td>\n",
              "      <td>19</td>\n",
              "      <td>15</td>\n",
              "      <td>39</td>\n",
              "    </tr>\n",
              "    <tr>\n",
              "      <th>1</th>\n",
              "      <td>2</td>\n",
              "      <td>Male</td>\n",
              "      <td>21</td>\n",
              "      <td>15</td>\n",
              "      <td>81</td>\n",
              "    </tr>\n",
              "    <tr>\n",
              "      <th>2</th>\n",
              "      <td>3</td>\n",
              "      <td>Female</td>\n",
              "      <td>20</td>\n",
              "      <td>16</td>\n",
              "      <td>6</td>\n",
              "    </tr>\n",
              "    <tr>\n",
              "      <th>3</th>\n",
              "      <td>4</td>\n",
              "      <td>Female</td>\n",
              "      <td>23</td>\n",
              "      <td>16</td>\n",
              "      <td>77</td>\n",
              "    </tr>\n",
              "    <tr>\n",
              "      <th>4</th>\n",
              "      <td>5</td>\n",
              "      <td>Female</td>\n",
              "      <td>31</td>\n",
              "      <td>17</td>\n",
              "      <td>40</td>\n",
              "    </tr>\n",
              "  </tbody>\n",
              "</table>\n",
              "</div>"
            ],
            "text/plain": [
              "   CustomerID  Gender  Age  Income  Spend_score\n",
              "0           1    Male   19      15           39\n",
              "1           2    Male   21      15           81\n",
              "2           3  Female   20      16            6\n",
              "3           4  Female   23      16           77\n",
              "4           5  Female   31      17           40"
            ]
          },
          "execution_count": 5,
          "metadata": {},
          "output_type": "execute_result"
        }
      ],
      "source": [
        "# rename the column so it's easy to call\n",
        "df.rename({'Genre':'Gender', \\\n",
        "           'Annual_Income_(k$)':'Income', \\\n",
        "'Spending_Score':'Spend_score'}, axis=1, \\\n",
        "inplace=True)\n",
        "df.head()"
      ]
    },
    {
      "cell_type": "code",
      "execution_count": null,
      "id": "002134d3",
      "metadata": {
        "id": "002134d3",
        "outputId": "cfea511d-d563-4020-cf73-ae1cc85ccd0f"
      },
      "outputs": [
        {
          "data": {
            "text/html": [
              "<div>\n",
              "<style scoped>\n",
              "    .dataframe tbody tr th:only-of-type {\n",
              "        vertical-align: middle;\n",
              "    }\n",
              "\n",
              "    .dataframe tbody tr th {\n",
              "        vertical-align: top;\n",
              "    }\n",
              "\n",
              "    .dataframe thead th {\n",
              "        text-align: right;\n",
              "    }\n",
              "</style>\n",
              "<table border=\"1\" class=\"dataframe\">\n",
              "  <thead>\n",
              "    <tr style=\"text-align: right;\">\n",
              "      <th></th>\n",
              "      <th>CustomerID</th>\n",
              "      <th>Age</th>\n",
              "      <th>Income</th>\n",
              "      <th>Spend_score</th>\n",
              "    </tr>\n",
              "  </thead>\n",
              "  <tbody>\n",
              "    <tr>\n",
              "      <th>count</th>\n",
              "      <td>200.000000</td>\n",
              "      <td>200.000000</td>\n",
              "      <td>200.000000</td>\n",
              "      <td>200.000000</td>\n",
              "    </tr>\n",
              "    <tr>\n",
              "      <th>mean</th>\n",
              "      <td>100.500000</td>\n",
              "      <td>38.850000</td>\n",
              "      <td>60.560000</td>\n",
              "      <td>50.200000</td>\n",
              "    </tr>\n",
              "    <tr>\n",
              "      <th>std</th>\n",
              "      <td>57.879185</td>\n",
              "      <td>13.969007</td>\n",
              "      <td>26.264721</td>\n",
              "      <td>25.823522</td>\n",
              "    </tr>\n",
              "    <tr>\n",
              "      <th>min</th>\n",
              "      <td>1.000000</td>\n",
              "      <td>18.000000</td>\n",
              "      <td>15.000000</td>\n",
              "      <td>1.000000</td>\n",
              "    </tr>\n",
              "    <tr>\n",
              "      <th>25%</th>\n",
              "      <td>50.750000</td>\n",
              "      <td>28.750000</td>\n",
              "      <td>41.500000</td>\n",
              "      <td>34.750000</td>\n",
              "    </tr>\n",
              "    <tr>\n",
              "      <th>50%</th>\n",
              "      <td>100.500000</td>\n",
              "      <td>36.000000</td>\n",
              "      <td>61.500000</td>\n",
              "      <td>50.000000</td>\n",
              "    </tr>\n",
              "    <tr>\n",
              "      <th>75%</th>\n",
              "      <td>150.250000</td>\n",
              "      <td>49.000000</td>\n",
              "      <td>78.000000</td>\n",
              "      <td>73.000000</td>\n",
              "    </tr>\n",
              "    <tr>\n",
              "      <th>max</th>\n",
              "      <td>200.000000</td>\n",
              "      <td>70.000000</td>\n",
              "      <td>137.000000</td>\n",
              "      <td>99.000000</td>\n",
              "    </tr>\n",
              "  </tbody>\n",
              "</table>\n",
              "</div>"
            ],
            "text/plain": [
              "       CustomerID         Age      Income  Spend_score\n",
              "count  200.000000  200.000000  200.000000   200.000000\n",
              "mean   100.500000   38.850000   60.560000    50.200000\n",
              "std     57.879185   13.969007   26.264721    25.823522\n",
              "min      1.000000   18.000000   15.000000     1.000000\n",
              "25%     50.750000   28.750000   41.500000    34.750000\n",
              "50%    100.500000   36.000000   61.500000    50.000000\n",
              "75%    150.250000   49.000000   78.000000    73.000000\n",
              "max    200.000000   70.000000  137.000000    99.000000"
            ]
          },
          "execution_count": 6,
          "metadata": {},
          "output_type": "execute_result"
        }
      ],
      "source": [
        "# describe the data\n",
        "df.describe()"
      ]
    },
    {
      "cell_type": "markdown",
      "id": "4e6bee6c",
      "metadata": {
        "id": "4e6bee6c"
      },
      "source": [
        "**Descriptive analyses**: These statistics provide an overview of the count, mean, standard deviation, minimum, 25th percentile (lower quartile), median (50th percentile), 75th percentile (upper quartile), and maximum values for each column in the dataset. The mean of the age is 38.85. Income: 60.56. Sped_score: 25.82. In addition, the median is very different from the mean which suggest the data is skewed."
      ]
    },
    {
      "cell_type": "markdown",
      "id": "ffa1372c",
      "metadata": {
        "id": "ffa1372c"
      },
      "source": [
        "### 2.2 Vizualization of each feature:  "
      ]
    },
    {
      "cell_type": "markdown",
      "id": "f162b490",
      "metadata": {
        "id": "f162b490"
      },
      "source": [
        "#### 2.2.1.Gender"
      ]
    },
    {
      "cell_type": "code",
      "execution_count": null,
      "id": "24e6af1a",
      "metadata": {
        "id": "24e6af1a",
        "outputId": "8273a488-0361-497e-d796-15e704edca4d"
      },
      "outputs": [
        {
          "data": {
            "image/png": "[encoded data removed]",
            "text/plain": [
              "<Figure size 720x432 with 1 Axes>"
            ]
          },
          "metadata": {},
          "output_type": "display_data"
        }
      ],
      "source": [
        "genders = df.Gender.value_counts()\n",
        "\n",
        "# Set the style and background color\n",
        "sns.set_style(\"white\")\n",
        "plt.figure(figsize=(10, 6))\n",
        "sns.set_palette(\"pastel\")\n",
        "sns.barplot(x=genders.index, y=genders.values)\n",
        "\n",
        "# Remove grid lines\n",
        "sns.despine(left=True)\n",
        "plt.xlabel(\"Gender\")\n",
        "plt.ylabel(\"Count\")\n",
        "plt.title(\"Gender Distribution\")\n",
        "plt.show()"
      ]
    },
    {
      "cell_type": "markdown",
      "id": "2da63e98",
      "metadata": {
        "id": "2da63e98"
      },
      "source": [
        "**Descriptive analyses** : Female customers are more than Male customers in our data frame."
      ]
    },
    {
      "cell_type": "code",
      "execution_count": null,
      "id": "b48a001d",
      "metadata": {
        "id": "b48a001d",
        "outputId": "fbc947d2-2dde-4c71-f86f-9348f6771eaf"
      },
      "outputs": [
        {
          "data": {
            "image/png": "[encoded data removed]",
            "text/plain": [
              "<Figure size 720x432 with 1 Axes>"
            ]
          },
          "metadata": {},
          "output_type": "display_data"
        }
      ],
      "source": [
        "sns.set_style(\"white\")\n",
        "plt.figure(figsize=(10, 6))\n",
        "plt.boxplot([df[df['Gender'] == 'Male']['Spend_score'],\n",
        "             df[df['Gender'] == 'Female']['Spend_score']])\n",
        "plt.xticks([1, 2], ['Male', 'Female'])\n",
        "plt.xlabel('Gender')\n",
        "plt.ylabel('Spend score')\n",
        "plt.title('Gender vs Spend score')\n",
        "plt.show()"
      ]
    },
    {
      "cell_type": "markdown",
      "id": "3aefc3c3",
      "metadata": {
        "id": "3aefc3c3"
      },
      "source": [
        "From the above boxplot, we can see the medain of Spend_score is similar between man and woman.\n",
        "Next, we do a diagnosis analysis to check whether the spending score is the same. Since we don't know standard deviation pf the population, we do t-test for check the Spending score."
      ]
    },
    {
      "cell_type": "code",
      "execution_count": null,
      "id": "9d679188",
      "metadata": {
        "id": "9d679188",
        "outputId": "f8cad8b3-ed2c-425f-e58a-81712a8ce9df"
      },
      "outputs": [
        {
          "name": "stdout",
          "output_type": "stream",
          "text": [
            "t-statistic: -0.8190464150660333\n",
            "p-value: 0.4137446589852176\n",
            "Fail to reject null hypothesis. There is no significant difference between male and female scores.\n"
          ]
        }
      ],
      "source": [
        "import scipy.stats as stats\n",
        "\n",
        "male_scores = df[df['Gender'] == 'Male']['Spend_score'] #subset data to get Male Spend_score\n",
        "female_scores = df[df['Gender'] == 'Female']['Spend_score'] #subset data to get Female Spend_score\n",
        "\n",
        "# Perform independent t-test\n",
        "t_statistic, p_value = stats.ttest_ind(male_scores, female_scores)\n",
        "\n",
        "alpha = 0.05  # significance level\n",
        "\n",
        "print(\"t-statistic:\", t_statistic)\n",
        "print(\"p-value:\", p_value)\n",
        "\n",
        "if p_value < alpha:\n",
        "    print(\"Reject null hypothesis. There is a significant difference between male and female scores.\")\n",
        "else:\n",
        "    print(\"Fail to reject null hypothesis. There is no significant difference between male and female scores.\")"
      ]
    },
    {
      "cell_type": "code",
      "execution_count": null,
      "id": "db9f8643",
      "metadata": {
        "id": "db9f8643",
        "outputId": "1f89c790-dc61-43ad-e263-5224e6947037"
      },
      "outputs": [
        {
          "name": "stdout",
          "output_type": "stream",
          "text": [
            "t-statistic: 0.8580710366607083\n",
            "p-value: 0.3918907377882569\n",
            "Fail to reject null hypothesis. There is no significant difference between male and female scores.\n"
          ]
        }
      ],
      "source": [
        "male_scores = df[df['Gender'] == 'Male']['Age'] #subset data to get Male Age\n",
        "female_scores = df[df['Gender'] == 'Female']['Age'] #subset data to get Female Age\n",
        "\n",
        "# Perform independent t-test\n",
        "t_statistic, p_value = stats.ttest_ind(male_scores, female_scores)\n",
        "\n",
        "alpha = 0.05  # significance level\n",
        "\n",
        "print(\"t-statistic:\", t_statistic)\n",
        "print(\"p-value:\", p_value)\n",
        "\n",
        "if p_value < alpha:\n",
        "    print(\"Reject null hypothesis. There is a significant difference between male and female scores.\")\n",
        "else:\n",
        "    print(\"Fail to reject null hypothesis. There is no significant difference between male and female scores.\")"
      ]
    },
    {
      "cell_type": "code",
      "execution_count": null,
      "id": "64fbf0f5",
      "metadata": {
        "id": "64fbf0f5",
        "outputId": "f107238b-b51c-43b1-e62e-8f95ed2a4914"
      },
      "outputs": [
        {
          "name": "stdout",
          "output_type": "stream",
          "text": [
            "t-statistic: 0.795022298602198\n",
            "p-value: 0.42755249399927864\n",
            "Fail to reject null hypothesis. There is no significant difference between male and female scores.\n"
          ]
        }
      ],
      "source": [
        "male_scores = df[df['Gender'] == 'Male']['Income'] #subset data to get Male Age\n",
        "female_scores = df[df['Gender'] == 'Female']['Income'] #subset data to get Female Age\n",
        "\n",
        "# Perform independent t-test\n",
        "t_statistic, p_value = stats.ttest_ind(male_scores, female_scores)\n",
        "\n",
        "alpha = 0.05  # significance level\n",
        "\n",
        "print(\"t-statistic:\", t_statistic)\n",
        "print(\"p-value:\", p_value)\n",
        "\n",
        "if p_value < alpha:\n",
        "    print(\"Reject null hypothesis. There is a significant difference between male and female scores.\")\n",
        "else:\n",
        "    print(\"Fail to reject null hypothesis. There is no significant difference between male and female scores.\")"
      ]
    },
    {
      "cell_type": "markdown",
      "id": "398bc544",
      "metadata": {
        "id": "398bc544"
      },
      "source": [
        "From the p-vlaue associated with the t-test, it falls to reject the null hypothesis. We are reasobaly sure that Spending score is the same."
      ]
    },
    {
      "cell_type": "markdown",
      "id": "69c2a73f",
      "metadata": {
        "id": "69c2a73f"
      },
      "source": [
        "#### 2.2.2. Age"
      ]
    },
    {
      "cell_type": "code",
      "execution_count": null,
      "id": "34fc788a",
      "metadata": {
        "id": "34fc788a",
        "outputId": "0baf8bb0-0e0c-48e4-e621-224b82e4a054"
      },
      "outputs": [
        {
          "data": {
            "image/png": "[encoded data removed]",
            "text/plain": [
              "<Figure size 720x432 with 1 Axes>"
            ]
          },
          "metadata": {},
          "output_type": "display_data"
        }
      ],
      "source": [
        "plt.figure(figsize=(10, 6))\n",
        "sns.set_style(\"white\")\n",
        "age18_25 = df.Age[(df.Age <= 25) & (df.Age >= 18)]\n",
        "age26_35 = df.Age[(df.Age <= 35) & (df.Age >= 26)]\n",
        "age36_45 = df.Age[(df.Age <= 45) & (df.Age >= 36)]\n",
        "age46_55 = df.Age[(df.Age <= 55) & (df.Age >= 46)]\n",
        "age56_65 = df.Age[(df.Age <= 65) & (df.Age >= 56)]\n",
        "age_over65 = df.Age[df.Age >= 56]\n",
        "\n",
        "x = [\"18-25\",\"26-35\",\"36-45\",\"46-55\",\"56-65\",\"65+\"]\n",
        "y = [len(age18_25.values),len(age26_35.values),len(age36_45.values)\n",
        "     ,len(age46_55.values),len(age56_65.values),len(age_over65.values)]\n",
        "#plt.figure(figsize=(15,6))\n",
        "sns.barplot(x=x, y=y, palette=\"Blues\")\n",
        "plt.title(\"Number of Customer and Ages\")\n",
        "plt.xlabel(\"Age\")\n",
        "plt.ylabel(\"Number of Customer\")\n",
        "plt.show()"
      ]
    },
    {
      "cell_type": "code",
      "execution_count": null,
      "id": "1d706c76",
      "metadata": {
        "id": "1d706c76",
        "outputId": "3e6a8334-4acd-4a99-85aa-948e18920784"
      },
      "outputs": [
        {
          "data": {
            "image/png": "[encoded data removed]",
            "text/plain": [
              "<Figure size 720x432 with 1 Axes>"
            ]
          },
          "metadata": {},
          "output_type": "display_data"
        }
      ],
      "source": [
        "plt.figure(figsize=(10, 6))\n",
        "sns.set_style(\"white\")\n",
        "df.Age.plot.hist(color='gray')# bins default as 10\n",
        "#same result: df.Income.plot.hist(color='gray', bins=10)\n",
        "plt.xlabel('Age')\n",
        "plt.title('Histogram of the Age')\n",
        "plt.show()"
      ]
    },
    {
      "cell_type": "markdown",
      "id": "35157684",
      "metadata": {
        "id": "35157684"
      },
      "source": [
        "#### 2.2.3. Income"
      ]
    },
    {
      "cell_type": "code",
      "execution_count": null,
      "id": "6c5cb20c",
      "metadata": {
        "id": "6c5cb20c",
        "outputId": "11bbf0e9-fcd5-457c-e45a-2b9dbe18200d"
      },
      "outputs": [
        {
          "data": {
            "text/plain": [
              "<Figure size 720x432 with 0 Axes>"
            ]
          },
          "metadata": {},
          "output_type": "display_data"
        },
        {
          "data": {
            "image/png": "[encoded data removed]",
            "text/plain": [
              "<Figure size 720x432 with 1 Axes>"
            ]
          },
          "metadata": {},
          "output_type": "display_data"
        }
      ],
      "source": [
        "plt.figure(figsize=(10, 6))\n",
        "sns.set_style(\"white\")\n",
        "ai0_30 = df[\"Income\"][(df[\"Income\"] >= 0) & (df[\"Income\"] <= 30)]\n",
        "ai31_60 = df[\"Income\"][(df[\"Income\"] >= 31) & (df[\"Income\"] <= 60)]\n",
        "ai61_90 = df[\"Income\"][(df[\"Income\"] >= 61) & (df[\"Income\"] <= 90)]\n",
        "ai91_120 = df[\"Income\"][(df[\"Income\"] >= 91) & (df[\"Income\"] <= 120)]\n",
        "ai121_150 = df[\"Income\"][(df[\"Income\"] >= 121) & (df[\"Income\"] <= 150)]\n",
        "\n",
        "aix = [\"$ 0 - 30,000\", \"$ 30,001 - 60,000\", \"$ 60,001 - 90,000\", \"$ 90,001 - 120,000\", \"$ 120,001 - 150,000\"]\n",
        "aiy = [len(ai0_30.values), len(ai31_60.values), len(ai61_90.values), len(ai91_120.values), len(ai121_150.values)]\n",
        "\n",
        "plt.figure(figsize=(10, 6))\n",
        "sns.barplot(x=aix, y=aiy, palette=\"BuGn\")\n",
        "plt.title(\"Income Distribution\")\n",
        "plt.xlabel(\"Income\")\n",
        "plt.ylabel(\"Number of Customers\")\n",
        "plt.show()"
      ]
    },
    {
      "cell_type": "code",
      "execution_count": null,
      "id": "7e7f4335",
      "metadata": {
        "id": "7e7f4335",
        "outputId": "11a5c2ff-4832-41f1-ca29-db973b515653"
      },
      "outputs": [
        {
          "data": {
            "image/png": "[encoded data removed]",
            "text/plain": [
              "<Figure size 720x432 with 1 Axes>"
            ]
          },
          "metadata": {},
          "output_type": "display_data"
        }
      ],
      "source": [
        "plt.figure(figsize=(10, 6))\n",
        "sns.set_style(\"white\")\n",
        "df.Income.plot.hist(color='gray')# bins default as 10\n",
        "#same result: df.Income.plot.hist(color='gray', bins=10)\n",
        "plt.xlabel('Income ($k)')\n",
        "plt.title('Histogram of Income Distribution')\n",
        "plt.show()"
      ]
    },
    {
      "cell_type": "code",
      "execution_count": null,
      "id": "080e486e",
      "metadata": {
        "id": "080e486e",
        "outputId": "95ff2c34-3486-4b2f-85b3-88525a223e7c"
      },
      "outputs": [
        {
          "data": {
            "image/png": "[encoded data removed]",
            "text/plain": [
              "<Figure size 720x432 with 1 Axes>"
            ]
          },
          "metadata": {},
          "output_type": "display_data"
        }
      ],
      "source": [
        "plt.figure(figsize=(10, 6))\n",
        "sns.set_style(\"white\")\n",
        "df.Income.plot.hist(color='gray')  # Plotting a gray histogram for all incomes\n",
        "\n",
        "# Calculate the bin edges\n",
        "_, bins, _ = plt.hist(df.Income, color='gray')\n",
        "# Retrieve the patches\n",
        "_, _, patches = plt.hist(df.Income, color='gray')\n",
        "\n",
        "# Set the color of the first three bars to blue\n",
        "for i in range(3):\n",
        "    patches[i].set_facecolor('blue')\n",
        "\n",
        "# Set the color of the next three bars to green\n",
        "for i in range(3, 6):\n",
        "    patches[i].set_facecolor('green')\n",
        "\n",
        "# Set the color of the remaining bars to dark red\n",
        "for i in range(6, len(patches)):\n",
        "    patches[i].set_facecolor('darkred')\n",
        "\n",
        "# Draw dashed reference lines on the third and sixth bars\n",
        "plt.axvline(x=bins[3], color='black', linestyle='dashed')\n",
        "plt.axvline(x=bins[6], color='black', linestyle='dashed')\n",
        "\n",
        "# Add legend\n",
        "legend_labels = ['Low Income', 'Middle Income', 'High Income']\n",
        "legend_colors = ['blue', 'green', 'darkred']\n",
        "legend_patches = [plt.Rectangle((0, 0), 1, 1, color=color) for color in legend_colors]\n",
        "plt.legend(legend_patches, legend_labels)\n",
        "\n",
        "# Display the plot\n",
        "plt.xlabel('Income')\n",
        "plt.title('Income Segmentation of the Mall Customers')\n",
        "plt.show()"
      ]
    },
    {
      "cell_type": "code",
      "execution_count": null,
      "id": "8645f73a",
      "metadata": {
        "id": "8645f73a"
      },
      "outputs": [],
      "source": [
        "df['Cluster'] = np.where(df.Income >= 90, 'High Income', \\\n",
        "np.where(df.Income < 50, \\\n",
        "'Low Income', 'Moderate Income'))"
      ]
    },
    {
      "cell_type": "code",
      "execution_count": null,
      "id": "a716e01d",
      "metadata": {
        "id": "a716e01d",
        "outputId": "1ca7dee2-aa14-4e1d-a32c-ad7d5a1185ee"
      },
      "outputs": [
        {
          "data": {
            "text/html": [
              "<div>\n",
              "<style scoped>\n",
              "    .dataframe tbody tr th:only-of-type {\n",
              "        vertical-align: middle;\n",
              "    }\n",
              "\n",
              "    .dataframe tbody tr th {\n",
              "        vertical-align: top;\n",
              "    }\n",
              "\n",
              "    .dataframe thead th {\n",
              "        text-align: right;\n",
              "    }\n",
              "</style>\n",
              "<table border=\"1\" class=\"dataframe\">\n",
              "  <thead>\n",
              "    <tr style=\"text-align: right;\">\n",
              "      <th></th>\n",
              "      <th>count</th>\n",
              "      <th>mean</th>\n",
              "      <th>std</th>\n",
              "      <th>min</th>\n",
              "      <th>25%</th>\n",
              "      <th>50%</th>\n",
              "      <th>75%</th>\n",
              "      <th>max</th>\n",
              "    </tr>\n",
              "    <tr>\n",
              "      <th>Cluster</th>\n",
              "      <th></th>\n",
              "      <th></th>\n",
              "      <th></th>\n",
              "      <th></th>\n",
              "      <th></th>\n",
              "      <th></th>\n",
              "      <th></th>\n",
              "      <th></th>\n",
              "    </tr>\n",
              "  </thead>\n",
              "  <tbody>\n",
              "    <tr>\n",
              "      <th>High Income</th>\n",
              "      <td>22.0</td>\n",
              "      <td>108.181818</td>\n",
              "      <td>13.661334</td>\n",
              "      <td>93.0</td>\n",
              "      <td>98.25</td>\n",
              "      <td>103.0</td>\n",
              "      <td>118.25</td>\n",
              "      <td>137.0</td>\n",
              "    </tr>\n",
              "    <tr>\n",
              "      <th>Low Income</th>\n",
              "      <td>72.0</td>\n",
              "      <td>33.027778</td>\n",
              "      <td>11.091136</td>\n",
              "      <td>15.0</td>\n",
              "      <td>22.50</td>\n",
              "      <td>33.5</td>\n",
              "      <td>43.00</td>\n",
              "      <td>49.0</td>\n",
              "    </tr>\n",
              "    <tr>\n",
              "      <th>Moderate Income</th>\n",
              "      <td>106.0</td>\n",
              "      <td>69.377358</td>\n",
              "      <td>10.651584</td>\n",
              "      <td>50.0</td>\n",
              "      <td>61.00</td>\n",
              "      <td>70.0</td>\n",
              "      <td>78.00</td>\n",
              "      <td>88.0</td>\n",
              "    </tr>\n",
              "  </tbody>\n",
              "</table>\n",
              "</div>"
            ],
            "text/plain": [
              "                 count        mean        std   min    25%    50%     75%  \\\n",
              "Cluster                                                                     \n",
              "High Income       22.0  108.181818  13.661334  93.0  98.25  103.0  118.25   \n",
              "Low Income        72.0   33.027778  11.091136  15.0  22.50   33.5   43.00   \n",
              "Moderate Income  106.0   69.377358  10.651584  50.0  61.00   70.0   78.00   \n",
              "\n",
              "                   max  \n",
              "Cluster                 \n",
              "High Income      137.0  \n",
              "Low Income        49.0  \n",
              "Moderate Income   88.0  "
            ]
          },
          "execution_count": 18,
          "metadata": {},
          "output_type": "execute_result"
        }
      ],
      "source": [
        "df.groupby('Cluster')['Income'].describe()"
      ]
    },
    {
      "cell_type": "markdown",
      "id": "4eeca9de",
      "metadata": {
        "id": "4eeca9de"
      },
      "source": [
        "## 3. Clustering analysis"
      ]
    },
    {
      "cell_type": "markdown",
      "id": "3305d851",
      "metadata": {
        "id": "3305d851"
      },
      "source": [
        "### 3.1. Standardize the data"
      ]
    },
    {
      "cell_type": "markdown",
      "id": "b61171ae",
      "metadata": {
        "id": "b61171ae"
      },
      "source": [
        "To calculate their z-score.\n",
        "This is done in two steps, for each column:\n",
        "1. First, subtract the mean of the data from each data point. This centers the data\n",
        "around 0, to make the data easier to look at and interpret, although this is not\n",
        "strictly required for clustering.\n",
        "2. The second step is to divide the parameters by their standard deviation."
      ]
    },
    {
      "cell_type": "code",
      "execution_count": null,
      "id": "c6252c27",
      "metadata": {
        "id": "c6252c27"
      },
      "outputs": [],
      "source": [
        "from sklearn.preprocessing import StandardScaler\n",
        "scaler = StandardScaler()"
      ]
    },
    {
      "cell_type": "code",
      "execution_count": null,
      "id": "b68faf7d",
      "metadata": {
        "id": "b68faf7d"
      },
      "outputs": [],
      "source": [
        "cols_to_scale = ['Age', 'Income', 'Spend_score']\n",
        "df_scaled = df.copy()"
      ]
    },
    {
      "cell_type": "code",
      "execution_count": null,
      "id": "64e20964",
      "metadata": {
        "id": "64e20964"
      },
      "outputs": [],
      "source": [
        "df_scaled[cols_to_scale] = scaler.fit_transform\\\n",
        "(df[cols_to_scale])"
      ]
    },
    {
      "cell_type": "code",
      "execution_count": null,
      "id": "d2aa35cf",
      "metadata": {
        "id": "d2aa35cf",
        "outputId": "329a8c70-7329-4ff1-d375-b6952f487c6b"
      },
      "outputs": [
        {
          "data": {
            "text/html": [
              "<div>\n",
              "<style scoped>\n",
              "    .dataframe tbody tr th:only-of-type {\n",
              "        vertical-align: middle;\n",
              "    }\n",
              "\n",
              "    .dataframe tbody tr th {\n",
              "        vertical-align: top;\n",
              "    }\n",
              "\n",
              "    .dataframe thead th {\n",
              "        text-align: right;\n",
              "    }\n",
              "</style>\n",
              "<table border=\"1\" class=\"dataframe\">\n",
              "  <thead>\n",
              "    <tr style=\"text-align: right;\">\n",
              "      <th></th>\n",
              "      <th>Age</th>\n",
              "      <th>Income</th>\n",
              "      <th>Spend_score</th>\n",
              "    </tr>\n",
              "  </thead>\n",
              "  <tbody>\n",
              "    <tr>\n",
              "      <th>count</th>\n",
              "      <td>2.000000e+02</td>\n",
              "      <td>2.000000e+02</td>\n",
              "      <td>2.000000e+02</td>\n",
              "    </tr>\n",
              "    <tr>\n",
              "      <th>mean</th>\n",
              "      <td>-9.603429e-17</td>\n",
              "      <td>-6.128431e-16</td>\n",
              "      <td>-1.121325e-16</td>\n",
              "    </tr>\n",
              "    <tr>\n",
              "      <th>std</th>\n",
              "      <td>1.002509e+00</td>\n",
              "      <td>1.002509e+00</td>\n",
              "      <td>1.002509e+00</td>\n",
              "    </tr>\n",
              "    <tr>\n",
              "      <th>min</th>\n",
              "      <td>-1.496335e+00</td>\n",
              "      <td>-1.738999e+00</td>\n",
              "      <td>-1.910021e+00</td>\n",
              "    </tr>\n",
              "    <tr>\n",
              "      <th>25%</th>\n",
              "      <td>-7.248436e-01</td>\n",
              "      <td>-7.275093e-01</td>\n",
              "      <td>-5.997931e-01</td>\n",
              "    </tr>\n",
              "    <tr>\n",
              "      <th>50%</th>\n",
              "      <td>-2.045351e-01</td>\n",
              "      <td>3.587926e-02</td>\n",
              "      <td>-7.764312e-03</td>\n",
              "    </tr>\n",
              "    <tr>\n",
              "      <th>75%</th>\n",
              "      <td>7.284319e-01</td>\n",
              "      <td>6.656748e-01</td>\n",
              "      <td>8.851316e-01</td>\n",
              "    </tr>\n",
              "    <tr>\n",
              "      <th>max</th>\n",
              "      <td>2.235532e+00</td>\n",
              "      <td>2.917671e+00</td>\n",
              "      <td>1.894492e+00</td>\n",
              "    </tr>\n",
              "  </tbody>\n",
              "</table>\n",
              "</div>"
            ],
            "text/plain": [
              "                Age        Income   Spend_score\n",
              "count  2.000000e+02  2.000000e+02  2.000000e+02\n",
              "mean  -9.603429e-17 -6.128431e-16 -1.121325e-16\n",
              "std    1.002509e+00  1.002509e+00  1.002509e+00\n",
              "min   -1.496335e+00 -1.738999e+00 -1.910021e+00\n",
              "25%   -7.248436e-01 -7.275093e-01 -5.997931e-01\n",
              "50%   -2.045351e-01  3.587926e-02 -7.764312e-03\n",
              "75%    7.284319e-01  6.656748e-01  8.851316e-01\n",
              "max    2.235532e+00  2.917671e+00  1.894492e+00"
            ]
          },
          "execution_count": 22,
          "metadata": {},
          "output_type": "execute_result"
        }
      ],
      "source": [
        "df_scaled[cols_to_scale].describe()"
      ]
    },
    {
      "cell_type": "code",
      "execution_count": null,
      "id": "c4a0d661",
      "metadata": {
        "id": "c4a0d661",
        "outputId": "f27ff389-e0f5-423a-8eeb-e29eb6336cf0"
      },
      "outputs": [
        {
          "data": {
            "text/html": [
              "<div>\n",
              "<style scoped>\n",
              "    .dataframe tbody tr th:only-of-type {\n",
              "        vertical-align: middle;\n",
              "    }\n",
              "\n",
              "    .dataframe tbody tr th {\n",
              "        vertical-align: top;\n",
              "    }\n",
              "\n",
              "    .dataframe thead th {\n",
              "        text-align: right;\n",
              "    }\n",
              "</style>\n",
              "<table border=\"1\" class=\"dataframe\">\n",
              "  <thead>\n",
              "    <tr style=\"text-align: right;\">\n",
              "      <th></th>\n",
              "      <th>Age</th>\n",
              "      <th>Income</th>\n",
              "      <th>Spend_score</th>\n",
              "    </tr>\n",
              "  </thead>\n",
              "  <tbody>\n",
              "    <tr>\n",
              "      <th>0</th>\n",
              "      <td>-1.424569</td>\n",
              "      <td>-1.738999</td>\n",
              "      <td>-0.434801</td>\n",
              "    </tr>\n",
              "    <tr>\n",
              "      <th>1</th>\n",
              "      <td>-1.281035</td>\n",
              "      <td>-1.738999</td>\n",
              "      <td>1.195704</td>\n",
              "    </tr>\n",
              "    <tr>\n",
              "      <th>2</th>\n",
              "      <td>-1.352802</td>\n",
              "      <td>-1.700830</td>\n",
              "      <td>-1.715913</td>\n",
              "    </tr>\n",
              "  </tbody>\n",
              "</table>\n",
              "</div>"
            ],
            "text/plain": [
              "        Age    Income  Spend_score\n",
              "0 -1.424569 -1.738999    -0.434801\n",
              "1 -1.281035 -1.738999     1.195704\n",
              "2 -1.352802 -1.700830    -1.715913"
            ]
          },
          "execution_count": 23,
          "metadata": {},
          "output_type": "execute_result"
        }
      ],
      "source": [
        "df_scaled=df_scaled[cols_to_scale]\n",
        "df_scaled.head(3)"
      ]
    },
    {
      "cell_type": "code",
      "execution_count": null,
      "id": "a63af4d0",
      "metadata": {
        "id": "a63af4d0",
        "outputId": "25e44121-0b76-45f6-f2b3-abb16451c769"
      },
      "outputs": [
        {
          "data": {
            "text/html": [
              "<div>\n",
              "<style scoped>\n",
              "    .dataframe tbody tr th:only-of-type {\n",
              "        vertical-align: middle;\n",
              "    }\n",
              "\n",
              "    .dataframe tbody tr th {\n",
              "        vertical-align: top;\n",
              "    }\n",
              "\n",
              "    .dataframe thead th {\n",
              "        text-align: right;\n",
              "    }\n",
              "</style>\n",
              "<table border=\"1\" class=\"dataframe\">\n",
              "  <thead>\n",
              "    <tr style=\"text-align: right;\">\n",
              "      <th></th>\n",
              "      <th>Income</th>\n",
              "      <th>Spend_score</th>\n",
              "    </tr>\n",
              "  </thead>\n",
              "  <tbody>\n",
              "    <tr>\n",
              "      <th>0</th>\n",
              "      <td>-1.738999</td>\n",
              "      <td>-0.434801</td>\n",
              "    </tr>\n",
              "    <tr>\n",
              "      <th>1</th>\n",
              "      <td>-1.738999</td>\n",
              "      <td>1.195704</td>\n",
              "    </tr>\n",
              "    <tr>\n",
              "      <th>2</th>\n",
              "      <td>-1.700830</td>\n",
              "      <td>-1.715913</td>\n",
              "    </tr>\n",
              "  </tbody>\n",
              "</table>\n",
              "</div>"
            ],
            "text/plain": [
              "     Income  Spend_score\n",
              "0 -1.738999    -0.434801\n",
              "1 -1.738999     1.195704\n",
              "2 -1.700830    -1.715913"
            ]
          },
          "execution_count": 24,
          "metadata": {},
          "output_type": "execute_result"
        }
      ],
      "source": [
        "cluster_cols = ['Income', 'Spend_score']\n",
        "df_clus_var=df_scaled[cluster_cols]\n",
        "df_clus_var.head(3)\n"
      ]
    },
    {
      "cell_type": "markdown",
      "id": "9b4e58be",
      "metadata": {
        "id": "9b4e58be"
      },
      "source": [
        "### 3.2 Different appraches to Decide K (How many clusters)"
      ]
    },
    {
      "cell_type": "markdown",
      "id": "ca6c90a5",
      "metadata": {
        "id": "ca6c90a5"
      },
      "source": [
        "#### 3.2.1. Simple Visual Inspection to Choose the Optimal K"
      ]
    },
    {
      "cell_type": "code",
      "execution_count": null,
      "id": "7fc279c8",
      "metadata": {
        "id": "7fc279c8",
        "outputId": "b4ae46f1-9d50-462b-e4e1-96056a62e4f6"
      },
      "outputs": [
        {
          "data": {
            "image/png": "[encoded data removed]",
            "text/plain": [
              "<Figure size 432x288 with 1 Axes>"
            ]
          },
          "metadata": {},
          "output_type": "display_data"
        }
      ],
      "source": [
        "df_scaled.plot.scatter(x='Income', y='Spend_score', color='gray')\n",
        "plt.show()"
      ]
    },
    {
      "cell_type": "markdown",
      "id": "859fe6e0",
      "metadata": {
        "id": "859fe6e0"
      },
      "source": [
        "It seems to be 5 clusters\n",
        "\n",
        "**Clusters are better when they are well separated, without too much overlap, and\n",
        "when they capture the most densely populated parts of the data space.**"
      ]
    },
    {
      "cell_type": "markdown",
      "id": "1e24813f",
      "metadata": {
        "id": "1e24813f"
      },
      "source": [
        "#### 3.2.2. The Elbow Method with Sum of Squared Errors"
      ]
    },
    {
      "cell_type": "code",
      "execution_count": null,
      "id": "cb6c37b0",
      "metadata": {
        "id": "cb6c37b0",
        "outputId": "0d82422e-7863-4f45-bd85-98c0a169a4f1"
      },
      "outputs": [
        {
          "data": {
            "image/png": "[encoded data removed]",
            "text/plain": [
              "<Figure size 432x288 with 1 Axes>"
            ]
          },
          "metadata": {},
          "output_type": "display_data"
        }
      ],
      "source": [
        "import warnings\n",
        "from sklearn.cluster import KMeans\n",
        "\n",
        "warnings.filterwarnings(\"ignore\")  # Ignore warning messages\n",
        "\n",
        "cluster_range = range(1,51)\n",
        "cluster_wss = []\n",
        "\n",
        "for num_cluster in cluster_range:\n",
        "    clusters = KMeans(num_cluster)\n",
        "    clusters.fit(df_clus_var)\n",
        "    cluster_wss.append(clusters.inertia_)\n",
        "\n",
        "\n",
        "plt.xlabel('#No Clusters')\n",
        "plt.ylabel('WSS')\n",
        "plt.plot(cluster_range, cluster_wss, marker = 'o', color='blue')\n",
        "plt.show()"
      ]
    },
    {
      "cell_type": "markdown",
      "id": "76831893",
      "metadata": {
        "id": "76831893"
      },
      "source": [
        "There is an Elbow at 5, so we consider 5 clusters is the best.<br>\n",
        "**The definition of an elbow in the plot, where the gain in terms of reduced errors seems to slow down for each new cluster.**"
      ]
    },
    {
      "cell_type": "markdown",
      "id": "507afc9f",
      "metadata": {
        "id": "507afc9f"
      },
      "source": [
        "#### 3.2.3. The Silhouette Score to Pick Optimal Number of Clusters"
      ]
    },
    {
      "cell_type": "code",
      "execution_count": null,
      "id": "4947007f",
      "metadata": {
        "id": "4947007f",
        "outputId": "ac8bc9ab-acc2-4a9d-85e5-9919dfa228dc"
      },
      "outputs": [
        {
          "data": {
            "image/png": "[encoded data removed]",
            "text/plain": [
              "<Figure size 432x288 with 1 Axes>"
            ]
          },
          "metadata": {},
          "output_type": "display_data"
        }
      ],
      "source": [
        "from sklearn.metrics import silhouette_score\n",
        "\n",
        "silhouette_scores = []\n",
        "\n",
        "for K in range(2, 11):\n",
        "    model = KMeans(n_clusters=K, random_state=42)\n",
        "    cluster_assignments = model.fit_predict(df_clus_var)\n",
        "    silhouette_avg = silhouette_score(df_clus_var, cluster_assignments)\n",
        "    silhouette_scores.append(silhouette_avg)\n",
        "\n",
        "\n",
        "plt.plot(range(2,11), silhouette_scores, marker = 'o', color='blue')\n",
        "plt.xlabel(\"Number of clusters: K\")\n",
        "plt.ylabel('Avg. Silhouette Score')\n",
        "plt.show()"
      ]
    },
    {
      "cell_type": "markdown",
      "id": "27daef0a",
      "metadata": {
        "id": "27daef0a"
      },
      "source": [
        "K=5 has the best silhouette score and is therefore the optimal number of clusters.<br>\n",
        "Based on these three method, K=5 is the optimal choice for clustering."
      ]
    },
    {
      "cell_type": "markdown",
      "id": "9186c1e1",
      "metadata": {
        "id": "9186c1e1"
      },
      "source": [
        "### 3.3. Clustering method"
      ]
    },
    {
      "cell_type": "markdown",
      "id": "f648185d",
      "metadata": {
        "id": "f648185d"
      },
      "source": [
        "#### 3.3.1. K-means"
      ]
    },
    {
      "cell_type": "code",
      "execution_count": null,
      "id": "1696849c",
      "metadata": {
        "id": "1696849c"
      },
      "outputs": [],
      "source": [
        "from sklearn.cluster import KMeans\n",
        "model = KMeans(n_clusters=5, random_state=42)"
      ]
    },
    {
      "cell_type": "code",
      "execution_count": null,
      "id": "8dbe5f14",
      "metadata": {
        "id": "8dbe5f14"
      },
      "outputs": [],
      "source": [
        "model.fit(df_clus_var)\n",
        "\n",
        "df_scaled['Cluster'] = model.predict(df_clus_var)"
      ]
    },
    {
      "cell_type": "code",
      "execution_count": null,
      "id": "39606072",
      "metadata": {
        "id": "39606072",
        "outputId": "604df643-4836-4be7-a16f-c256d2e38da0"
      },
      "outputs": [
        {
          "data": {
            "text/html": [
              "<div>\n",
              "<style scoped>\n",
              "    .dataframe tbody tr th:only-of-type {\n",
              "        vertical-align: middle;\n",
              "    }\n",
              "\n",
              "    .dataframe tbody tr th {\n",
              "        vertical-align: top;\n",
              "    }\n",
              "\n",
              "    .dataframe thead th {\n",
              "        text-align: right;\n",
              "    }\n",
              "</style>\n",
              "<table border=\"1\" class=\"dataframe\">\n",
              "  <thead>\n",
              "    <tr style=\"text-align: right;\">\n",
              "      <th></th>\n",
              "      <th>Age</th>\n",
              "      <th>Income</th>\n",
              "      <th>Spend_score</th>\n",
              "      <th>Cluster</th>\n",
              "    </tr>\n",
              "  </thead>\n",
              "  <tbody>\n",
              "    <tr>\n",
              "      <th>0</th>\n",
              "      <td>-1.424569</td>\n",
              "      <td>-1.738999</td>\n",
              "      <td>-0.434801</td>\n",
              "      <td>2</td>\n",
              "    </tr>\n",
              "    <tr>\n",
              "      <th>1</th>\n",
              "      <td>-1.281035</td>\n",
              "      <td>-1.738999</td>\n",
              "      <td>1.195704</td>\n",
              "      <td>3</td>\n",
              "    </tr>\n",
              "    <tr>\n",
              "      <th>2</th>\n",
              "      <td>-1.352802</td>\n",
              "      <td>-1.700830</td>\n",
              "      <td>-1.715913</td>\n",
              "      <td>2</td>\n",
              "    </tr>\n",
              "  </tbody>\n",
              "</table>\n",
              "</div>"
            ],
            "text/plain": [
              "        Age    Income  Spend_score  Cluster\n",
              "0 -1.424569 -1.738999    -0.434801        2\n",
              "1 -1.281035 -1.738999     1.195704        3\n",
              "2 -1.352802 -1.700830    -1.715913        2"
            ]
          },
          "execution_count": 30,
          "metadata": {},
          "output_type": "execute_result"
        }
      ],
      "source": [
        "df_scaled.head(3)"
      ]
    },
    {
      "cell_type": "code",
      "execution_count": null,
      "id": "cb2849a8",
      "metadata": {
        "id": "cb2849a8",
        "outputId": "b96b37bd-fb0e-48aa-ecab-61591ab06921"
      },
      "outputs": [
        {
          "data": {
            "image/png": "[encoded data removed]",
            "text/plain": [
              "<Figure size 432x288 with 1 Axes>"
            ]
          },
          "metadata": {},
          "output_type": "display_data"
        }
      ],
      "source": [
        "sns.set_style(\"white\")\n",
        "colors = ['red', 'blue', 'green', 'orange', 'pink']\n",
        "K = 5  # you may choose your own K\n",
        "kmeans = KMeans(n_clusters=K, random_state=42)\n",
        "\n",
        "# cluster membership for each data point\n",
        "clusters = kmeans.fit_predict(df_scaled[['Income', 'Spend_score']])\n",
        "plt.scatter(df_scaled['Income'], df_scaled['Spend_score'], c=[colors[label] for label in clusters])\n",
        "\n",
        "# get centroids\n",
        "centers = kmeans.cluster_centers_\n",
        "\n",
        "# plot the clusters and centroids\n",
        "\n",
        "plt.scatter(centers[:, 0], centers[:, 1], c='black', marker='x', s=100)\n",
        "plt.xlabel('Income')\n",
        "plt.ylabel('Spend Score')\n",
        "plt.title(\"K-means Clustering\")\n",
        "plt.show()"
      ]
    },
    {
      "cell_type": "code",
      "execution_count": null,
      "id": "d5265a8b",
      "metadata": {
        "id": "d5265a8b",
        "outputId": "c197c00c-044d-4e82-fd58-e3e698417f27"
      },
      "outputs": [
        {
          "data": {
            "text/plain": [
              "array([[-0.20091257, -0.02645617],\n",
              "       [ 1.05500302, -1.28443907],\n",
              "       [-1.30751869, -1.13696536],\n",
              "       [-1.32954532,  1.13217788],\n",
              "       [ 0.99158305,  1.23950275]])"
            ]
          },
          "execution_count": 32,
          "metadata": {},
          "output_type": "execute_result"
        }
      ],
      "source": [
        "centers"
      ]
    },
    {
      "cell_type": "markdown",
      "id": "b1583d41",
      "metadata": {
        "id": "b1583d41"
      },
      "source": [
        "It's good to know the center of the cluser. However, it's scaled, so in the next step, we unscaled the data to know the feature of each centers."
      ]
    },
    {
      "cell_type": "code",
      "execution_count": null,
      "id": "dcf4f289",
      "metadata": {
        "id": "dcf4f289",
        "outputId": "7c98ccff-d385-4f85-9fd2-e75b922fade1"
      },
      "outputs": [
        {
          "data": {
            "text/plain": [
              "array([38.85, 60.56, 50.2 ])"
            ]
          },
          "execution_count": 33,
          "metadata": {},
          "output_type": "execute_result"
        }
      ],
      "source": [
        "mean_values = scaler.mean_\n",
        "mean_values"
      ]
    },
    {
      "cell_type": "code",
      "execution_count": null,
      "id": "7661cddc",
      "metadata": {
        "id": "7661cddc",
        "outputId": "73cccba3-2a69-4be8-904b-fa6f97b698ca"
      },
      "outputs": [
        {
          "data": {
            "text/plain": [
              "array([13.93404105, 26.19897708, 25.75888196])"
            ]
          },
          "execution_count": 34,
          "metadata": {},
          "output_type": "execute_result"
        }
      ],
      "source": [
        "std_values = scaler.scale_\n",
        "std_values"
      ]
    },
    {
      "cell_type": "code",
      "execution_count": null,
      "id": "6caf6cda",
      "metadata": {
        "id": "6caf6cda",
        "outputId": "81b86299-e7ff-4599-dd70-79a31105a75d"
      },
      "outputs": [
        {
          "data": {
            "text/plain": [
              "array([[38.85, 50.2 ],\n",
              "       [38.85, 50.2 ],\n",
              "       [38.85, 50.2 ],\n",
              "       [38.85, 50.2 ],\n",
              "       [38.85, 50.2 ]])"
            ]
          },
          "execution_count": 35,
          "metadata": {},
          "output_type": "execute_result"
        }
      ],
      "source": [
        "mean_values = scaler.mean_\n",
        "age_mean = mean_values[0]\n",
        "spend_score_mean = mean_values[2]\n",
        "mean_matrix = np.array([[age_mean, spend_score_mean ],\n",
        "                               [age_mean, spend_score_mean ],\n",
        "                               [age_mean, spend_score_mean ],\n",
        "                               [age_mean, spend_score_mean ],\n",
        "                               [age_mean, spend_score_mean ]])\n",
        "mean_matrix"
      ]
    },
    {
      "cell_type": "code",
      "execution_count": null,
      "id": "d1817871",
      "metadata": {
        "id": "d1817871",
        "outputId": "85b466d1-99c0-4e58-ee82-ef24a9c624f1"
      },
      "outputs": [
        {
          "data": {
            "text/plain": [
              "array([[13.93404105, 25.75888196],\n",
              "       [13.93404105, 25.75888196],\n",
              "       [13.93404105, 25.75888196],\n",
              "       [13.93404105, 25.75888196],\n",
              "       [13.93404105, 25.75888196]])"
            ]
          },
          "execution_count": 36,
          "metadata": {},
          "output_type": "execute_result"
        }
      ],
      "source": [
        "std_values = scaler.scale_\n",
        "age_std = std_values[0]\n",
        "spend_std_std = std_values[2]\n",
        "std_matrix = np.array([[age_std, spend_std_std ],\n",
        "                               [age_std, spend_std_std ],\n",
        "                               [age_std, spend_std_std ],\n",
        "                               [age_std, spend_std_std ],\n",
        "                               [age_std, spend_std_std ]])\n",
        "std_matrix"
      ]
    },
    {
      "cell_type": "code",
      "execution_count": null,
      "id": "eb0feb6f",
      "metadata": {
        "id": "eb0feb6f",
        "outputId": "a88aea88-6272-4060-a1dd-9ddab53020d3"
      },
      "outputs": [
        {
          "data": {
            "text/plain": [
              "array([[36.05047606, 49.51851852],\n",
              "       [53.55045542, 17.11428571],\n",
              "       [20.63098091, 20.91304348],\n",
              "       [20.32406098, 79.36363636],\n",
              "       [52.66675889, 82.12820513]])"
            ]
          },
          "execution_count": 37,
          "metadata": {},
          "output_type": "execute_result"
        }
      ],
      "source": [
        "centers_value=(centers*std_matrix)+mean_matrix\n",
        "centers_value # unscale centers"
      ]
    },
    {
      "cell_type": "code",
      "execution_count": null,
      "id": "404f1314",
      "metadata": {
        "id": "404f1314",
        "outputId": "878402a5-aaac-4e53-a0ad-d60d0da53355"
      },
      "outputs": [
        {
          "name": "stdout",
          "output_type": "stream",
          "text": [
            "            Income  Spend score\n",
            "cluster                        \n",
            "0        36.050476    49.518519\n",
            "1        53.550455    17.114286\n",
            "2        20.630981    20.913043\n",
            "3        20.324061    79.363636\n",
            "4        52.666759    82.128205\n"
          ]
        },
        {
          "data": {
            "image/png": "[encoded data removed]",
            "text/plain": [
              "<Figure size 432x288 with 1 Axes>"
            ]
          },
          "metadata": {},
          "output_type": "display_data"
        }
      ],
      "source": [
        "centers_value = pd.DataFrame(centers_value, columns=['Income', 'Spend score']).rename_axis('cluster')\n",
        "print(centers_value)\n",
        "\n",
        "# Plot the bar plot\n",
        "centers_value.plot.bar()\n",
        "\n",
        "# Customize the plot (optional)\n",
        "plt.xlabel('Cluster')\n",
        "plt.ylabel('Values')\n",
        "plt.title('Features of the Clusters')\n",
        "\n",
        "# Show the plot\n",
        "plt.show()"
      ]
    },
    {
      "cell_type": "markdown",
      "id": "5cac5c59",
      "metadata": {
        "id": "5cac5c59"
      },
      "source": [
        "#### Descibe each segmentation\n",
        "\n",
        "Based on the income and Spending score, 5 clusters can be categorized as:<br>\n",
        "(the exact average value can refer to the above table)\n",
        "- Cluster 0: Midium income, Midum Spending Score\n",
        "- Cluster 1: High income, Low Spending Score\n",
        "- Cluster 2: Low income, Low Spending Score\n",
        "- Cluster 3: Low income, High Spending Score\n",
        "- Cluster 4: High income, High Spending Score"
      ]
    },
    {
      "cell_type": "markdown",
      "id": "c5363d88",
      "metadata": {
        "id": "c5363d88"
      },
      "source": [
        "#### 3.3.2. Hierarchical Clustering\n",
        "K=3 in this example, from the below graph, we can realize the relationship of data based on different number of the cluster."
      ]
    },
    {
      "cell_type": "code",
      "execution_count": null,
      "id": "5364ec4e",
      "metadata": {
        "id": "5364ec4e",
        "outputId": "7ceb42d5-8b00-43f6-9ba1-9e4a9bc60da3"
      },
      "outputs": [
        {
          "data": {
            "image/png": "[encoded data removed]",
            "text/plain": [
              "<Figure size 432x288 with 1 Axes>"
            ]
          },
          "metadata": {},
          "output_type": "display_data"
        }
      ],
      "source": [
        "from scipy.cluster import hierarchy\n",
        "from scipy.cluster.hierarchy import dendrogram, linkage\n",
        "\n",
        "Z = linkage(df_scaled[['Income','Spend_score']], 'ward') # use ward linkage\n",
        "dn = dendrogram(Z, truncate_mode='lastp', p=10) # show last 10 clusters\n",
        "plt.show()"
      ]
    },
    {
      "cell_type": "code",
      "execution_count": null,
      "id": "d43c8f58",
      "metadata": {
        "id": "d43c8f58",
        "outputId": "639c8991-f016-4999-9486-c46594d6a4e7"
      },
      "outputs": [
        {
          "data": {
            "image/png": "[encoded data removed]",
            "text/plain": [
              "<Figure size 432x288 with 1 Axes>"
            ]
          },
          "metadata": {},
          "output_type": "display_data"
        }
      ],
      "source": [
        "from sklearn.cluster import AgglomerativeClustering\n",
        "cluster = AgglomerativeClustering(n_clusters=3, affinity='euclidean', linkage='ward')\n",
        "cluster_labels = cluster.fit_predict(df_scaled[['Income', 'Spend_score']])\n",
        "\n",
        "plt.scatter(df_scaled['Income'], df_scaled['Spend_score'], c=cluster_labels, cmap='viridis')\n",
        "plt.xlabel('Income')\n",
        "plt.ylabel('Spend Score')\n",
        "plt.title('Hierarchical Clustering (Ward Linkage)')\n",
        "plt.show()"
      ]
    },
    {
      "cell_type": "markdown",
      "id": "b9700799",
      "metadata": {
        "id": "b9700799"
      },
      "source": [
        "### 4. Dealing with High-Dimensional Data"
      ]
    },
    {
      "cell_type": "markdown",
      "id": "8bb9d208",
      "metadata": {
        "id": "8bb9d208"
      },
      "source": [
        "Explanation of PCA: https://www.youtube.com/watch?v=FgakZw6K1QQ"
      ]
    },
    {
      "cell_type": "code",
      "execution_count": null,
      "id": "2d044d24",
      "metadata": {
        "id": "2d044d24",
        "outputId": "d6cdf473-9598-4420-eac7-427d888056c7"
      },
      "outputs": [
        {
          "data": {
            "text/html": [
              "<div>\n",
              "<style scoped>\n",
              "    .dataframe tbody tr th:only-of-type {\n",
              "        vertical-align: middle;\n",
              "    }\n",
              "\n",
              "    .dataframe tbody tr th {\n",
              "        vertical-align: top;\n",
              "    }\n",
              "\n",
              "    .dataframe thead th {\n",
              "        text-align: right;\n",
              "    }\n",
              "</style>\n",
              "<table border=\"1\" class=\"dataframe\">\n",
              "  <thead>\n",
              "    <tr style=\"text-align: right;\">\n",
              "      <th></th>\n",
              "      <th>Age</th>\n",
              "      <th>Income</th>\n",
              "      <th>Spend_score</th>\n",
              "    </tr>\n",
              "  </thead>\n",
              "  <tbody>\n",
              "    <tr>\n",
              "      <th>0</th>\n",
              "      <td>-1.424569</td>\n",
              "      <td>-1.738999</td>\n",
              "      <td>-0.434801</td>\n",
              "    </tr>\n",
              "    <tr>\n",
              "      <th>1</th>\n",
              "      <td>-1.281035</td>\n",
              "      <td>-1.738999</td>\n",
              "      <td>1.195704</td>\n",
              "    </tr>\n",
              "    <tr>\n",
              "      <th>2</th>\n",
              "      <td>-1.352802</td>\n",
              "      <td>-1.700830</td>\n",
              "      <td>-1.715913</td>\n",
              "    </tr>\n",
              "  </tbody>\n",
              "</table>\n",
              "</div>"
            ],
            "text/plain": [
              "        Age    Income  Spend_score\n",
              "0 -1.424569 -1.738999    -0.434801\n",
              "1 -1.281035 -1.738999     1.195704\n",
              "2 -1.352802 -1.700830    -1.715913"
            ]
          },
          "execution_count": 41,
          "metadata": {},
          "output_type": "execute_result"
        }
      ],
      "source": [
        "df_scaled_pca=df_scaled[['Age','Income','Spend_score']]\n",
        "df_scaled_pca.head(3)"
      ]
    },
    {
      "cell_type": "code",
      "execution_count": null,
      "id": "0b8e3e0e",
      "metadata": {
        "id": "0b8e3e0e",
        "outputId": "2d2453ef-b202-4ce0-c505-222f2479e37b"
      },
      "outputs": [
        {
          "data": {
            "text/plain": [
              "KMeans(n_clusters=4, random_state=42)"
            ]
          },
          "execution_count": 42,
          "metadata": {},
          "output_type": "execute_result"
        }
      ],
      "source": [
        "model = KMeans(n_clusters=4, random_state=42)\n",
        "model.fit(df_scaled_pca)"
      ]
    },
    {
      "cell_type": "code",
      "execution_count": null,
      "id": "e8133b57",
      "metadata": {
        "id": "e8133b57"
      },
      "outputs": [],
      "source": [
        "df_scaled['Cluster'] = model.predict(df_scaled_pca)"
      ]
    },
    {
      "cell_type": "code",
      "execution_count": null,
      "id": "37e1cd59",
      "metadata": {
        "id": "37e1cd59"
      },
      "outputs": [],
      "source": [
        "from sklearn import decomposition\n",
        "\n",
        "pca = decomposition.PCA(n_components=2)\n",
        "pca_res = pca.fit_transform(df_scaled_pca)\n",
        "\n",
        "df_scaled['pc1'] = pca_res[:,0]\n",
        "df_scaled['pc2'] = pca_res[:,1]\n",
        "df_scaled_pca_var=pca_res[:,0:2]\n"
      ]
    },
    {
      "cell_type": "code",
      "execution_count": null,
      "id": "5353b6aa",
      "metadata": {
        "id": "5353b6aa",
        "outputId": "9d042570-6b3a-4f7f-df6b-b3cccc0a9fbf"
      },
      "outputs": [
        {
          "name": "stdout",
          "output_type": "stream",
          "text": [
            "Amount of variance explained by PCs: [1.33465831 1.00427272 0.67614435]\n"
          ]
        },
        {
          "data": {
            "text/html": [
              "<div>\n",
              "<style scoped>\n",
              "    .dataframe tbody tr th:only-of-type {\n",
              "        vertical-align: middle;\n",
              "    }\n",
              "\n",
              "    .dataframe tbody tr th {\n",
              "        vertical-align: top;\n",
              "    }\n",
              "\n",
              "    .dataframe thead th {\n",
              "        text-align: right;\n",
              "    }\n",
              "</style>\n",
              "<table border=\"1\" class=\"dataframe\">\n",
              "  <thead>\n",
              "    <tr style=\"text-align: right;\">\n",
              "      <th></th>\n",
              "      <th>k-th PC</th>\n",
              "      <th>Ratio of variance</th>\n",
              "    </tr>\n",
              "  </thead>\n",
              "  <tbody>\n",
              "    <tr>\n",
              "      <th>0</th>\n",
              "      <td>1</td>\n",
              "      <td>0.442662</td>\n",
              "    </tr>\n",
              "    <tr>\n",
              "      <th>1</th>\n",
              "      <td>2</td>\n",
              "      <td>0.333084</td>\n",
              "    </tr>\n",
              "    <tr>\n",
              "      <th>2</th>\n",
              "      <td>3</td>\n",
              "      <td>0.224255</td>\n",
              "    </tr>\n",
              "  </tbody>\n",
              "</table>\n",
              "</div>"
            ],
            "text/plain": [
              "   k-th PC  Ratio of variance\n",
              "0        1           0.442662\n",
              "1        2           0.333084\n",
              "2        3           0.224255"
            ]
          },
          "execution_count": 45,
          "metadata": {},
          "output_type": "execute_result"
        }
      ],
      "source": [
        "# PCA function in sklearn\n",
        "from sklearn.decomposition import PCA\n",
        "p=df_scaled_pca.shape[1]\n",
        "\n",
        "pca = PCA(n_components=p)\n",
        "PCs = pca.fit_transform(df_scaled_pca)\n",
        "\n",
        "print('Amount of variance explained by PCs:', pca.explained_variance_)\n",
        "\n",
        "data = {'k-th PC': range(1,p+1),\n",
        "        'Ratio of variance': pca.explained_variance_ratio_}\n",
        "\n",
        "df_pca_var = pd.DataFrame(data)\n",
        "df_pca_var"
      ]
    },
    {
      "cell_type": "code",
      "execution_count": null,
      "id": "b4b068d8",
      "metadata": {
        "id": "b4b068d8",
        "outputId": "cffcb99b-533d-4354-f39a-878243142144"
      },
      "outputs": [
        {
          "data": {
            "image/png": "[encoded data removed]",
            "text/plain": [
              "<Figure size 432x288 with 1 Axes>"
            ]
          },
          "metadata": {},
          "output_type": "display_data"
        }
      ],
      "source": [
        "# visualize the ratio of variance explained by PCs\n",
        "plt.xlabel(\"k-th PC\")\n",
        "plt.ylabel(r'Ratio of variance explained by PC')\n",
        "plt.ylim(ymin=0, ymax=1)\n",
        "plt.xlim(xmin=0,xmax=p+1)\n",
        "plt.plot(range(1,p+1),pca.explained_variance_ratio_, linestyle='-', marker='o', color='blue')\n",
        "plt.show()"
      ]
    },
    {
      "cell_type": "markdown",
      "id": "2bce9293",
      "metadata": {
        "id": "2bce9293"
      },
      "source": [
        "pc1 and pc2 combined will include 77% of the variance (44%+33%)"
      ]
    },
    {
      "cell_type": "code",
      "execution_count": null,
      "id": "eeea1aea",
      "metadata": {
        "id": "eeea1aea",
        "outputId": "3625f55f-ee69-40f6-b865-2c8ef36f3fe3"
      },
      "outputs": [
        {
          "data": {
            "image/png": "[encoded data removed]",
            "text/plain": [
              "<Figure size 432x288 with 1 Axes>"
            ]
          },
          "metadata": {},
          "output_type": "display_data"
        }
      ],
      "source": [
        "sns.set_style(\"white\")\n",
        "colors = ['pink', 'lightblue', 'lightgreen', 'orange']\n",
        "\n",
        "K = 4  # you may choose your own K\n",
        "kmeans = KMeans(n_clusters=K, random_state=42)\n",
        "\n",
        "# cluster membership for each data point\n",
        "clusters = kmeans.fit_predict(df_scaled_pca_var)\n",
        "\n",
        "# create an array of colors for each data point based on cluster assignment\n",
        "plt.scatter(df_scaled['pc1'], df_scaled['pc2'],  c=[colors[label] for label in clusters])\n",
        "\n",
        "# get centroids\n",
        "centers = kmeans.cluster_centers_\n",
        "\n",
        "# plot the clusters and centroids\n",
        "plt.scatter(centers[:, 0], centers[:, 1], c='black', marker='x', s=100)\n",
        "plt.title(\"K-means Clustering\")\n",
        "plt.xlabel('PC1')\n",
        "plt.ylabel('PC2')\n",
        "plt.show()"
      ]
    },
    {
      "cell_type": "code",
      "execution_count": null,
      "id": "329778d7",
      "metadata": {
        "id": "329778d7"
      },
      "outputs": [],
      "source": [
        "df['Cluster'] = df_scaled.Cluster"
      ]
    },
    {
      "cell_type": "code",
      "execution_count": null,
      "id": "194f28c7",
      "metadata": {
        "id": "194f28c7",
        "outputId": "e4d20d20-b9d9-4e69-e83d-2251e1500b91"
      },
      "outputs": [
        {
          "data": {
            "text/html": [
              "<div>\n",
              "<style scoped>\n",
              "    .dataframe tbody tr th:only-of-type {\n",
              "        vertical-align: middle;\n",
              "    }\n",
              "\n",
              "    .dataframe tbody tr th {\n",
              "        vertical-align: top;\n",
              "    }\n",
              "\n",
              "    .dataframe thead th {\n",
              "        text-align: right;\n",
              "    }\n",
              "</style>\n",
              "<table border=\"1\" class=\"dataframe\">\n",
              "  <thead>\n",
              "    <tr style=\"text-align: right;\">\n",
              "      <th></th>\n",
              "      <th>Age</th>\n",
              "      <th>Income</th>\n",
              "      <th>Spend_score</th>\n",
              "    </tr>\n",
              "    <tr>\n",
              "      <th>Cluster</th>\n",
              "      <th></th>\n",
              "      <th></th>\n",
              "      <th></th>\n",
              "    </tr>\n",
              "  </thead>\n",
              "  <tbody>\n",
              "    <tr>\n",
              "      <th>0</th>\n",
              "      <td>39.368421</td>\n",
              "      <td>86.500000</td>\n",
              "      <td>19.578947</td>\n",
              "    </tr>\n",
              "    <tr>\n",
              "      <th>1</th>\n",
              "      <td>32.875000</td>\n",
              "      <td>86.100000</td>\n",
              "      <td>81.525000</td>\n",
              "    </tr>\n",
              "    <tr>\n",
              "      <th>2</th>\n",
              "      <td>25.438596</td>\n",
              "      <td>40.000000</td>\n",
              "      <td>60.298246</td>\n",
              "    </tr>\n",
              "    <tr>\n",
              "      <th>3</th>\n",
              "      <td>53.984615</td>\n",
              "      <td>47.707692</td>\n",
              "      <td>39.969231</td>\n",
              "    </tr>\n",
              "  </tbody>\n",
              "</table>\n",
              "</div>"
            ],
            "text/plain": [
              "               Age     Income  Spend_score\n",
              "Cluster                                   \n",
              "0        39.368421  86.500000    19.578947\n",
              "1        32.875000  86.100000    81.525000\n",
              "2        25.438596  40.000000    60.298246\n",
              "3        53.984615  47.707692    39.969231"
            ]
          },
          "execution_count": 49,
          "metadata": {},
          "output_type": "execute_result"
        }
      ],
      "source": [
        "df.groupby('Cluster')[['Age', 'Income', 'Spend_score']].mean()"
      ]
    },
    {
      "cell_type": "code",
      "execution_count": null,
      "id": "2f15b79f",
      "metadata": {
        "id": "2f15b79f",
        "outputId": "5848da73-b35e-4c5a-eb96-55ae6b563c3f"
      },
      "outputs": [
        {
          "data": {
            "image/png": "[encoded data removed]",
            "text/plain": [
              "<Figure size 432x288 with 1 Axes>"
            ]
          },
          "metadata": {},
          "output_type": "display_data"
        }
      ],
      "source": [
        "df.groupby('Cluster')[['Age', 'Income', \\\n",
        "                          'Spend_score']].mean() \\\n",
        "     .plot.bar(color=['lightgray', 'darkgray', 'black'])\n",
        "plt.title('Features of the Clusters')\n",
        "plt.show()"
      ]
    },
    {
      "cell_type": "markdown",
      "id": "0cd86796",
      "metadata": {
        "id": "0cd86796"
      },
      "source": [
        "#### Descibe each segmentation\n",
        "Based on the PC1 and PC2, 4 clusters can be categorized as:<br>\n",
        "(the exact average value can refer to the above table)\n",
        "\n",
        "- Cluster 0: Middle-aged penny pinchers (high income, low spend)\n",
        "- Cluster 1: Young high rollers (younger age, high income, high spend)\n",
        "- Cluster 2: Young aspirers (low income, high spend)\n",
        "- Cluster 3: Old average Joes (average income, average spend)"
      ]
    },
    {
      "cell_type": "markdown",
      "id": "735e5835",
      "metadata": {
        "id": "735e5835"
      },
      "source": [
        "### 5. Using a Train-Test Split to Evaluate Clustering Performance"
      ]
    },
    {
      "cell_type": "code",
      "execution_count": null,
      "id": "f53db23b",
      "metadata": {
        "id": "f53db23b"
      },
      "outputs": [],
      "source": [
        "from sklearn.model_selection import train_test_split"
      ]
    },
    {
      "cell_type": "code",
      "execution_count": null,
      "id": "368466b8",
      "metadata": {
        "id": "368466b8"
      },
      "outputs": [],
      "source": [
        "# train data set split the data\n",
        "df_train, df_test = train_test_split\\\n",
        "                    (df_scaled_pca_var, train_size=0.65, \\\n",
        "                     random_state=42)"
      ]
    },
    {
      "cell_type": "code",
      "execution_count": null,
      "id": "a25924a4",
      "metadata": {
        "id": "a25924a4",
        "outputId": "a9768805-e52f-43f9-c8d1-fa04e3847b8f"
      },
      "outputs": [
        {
          "data": {
            "text/html": [
              "<div>\n",
              "<style scoped>\n",
              "    .dataframe tbody tr th:only-of-type {\n",
              "        vertical-align: middle;\n",
              "    }\n",
              "\n",
              "    .dataframe tbody tr th {\n",
              "        vertical-align: top;\n",
              "    }\n",
              "\n",
              "    .dataframe thead th {\n",
              "        text-align: right;\n",
              "    }\n",
              "</style>\n",
              "<table border=\"1\" class=\"dataframe\">\n",
              "  <thead>\n",
              "    <tr style=\"text-align: right;\">\n",
              "      <th></th>\n",
              "      <th>pc1</th>\n",
              "      <th>pc2</th>\n",
              "    </tr>\n",
              "  </thead>\n",
              "  <tbody>\n",
              "    <tr>\n",
              "      <th>0</th>\n",
              "      <td>-0.531217</td>\n",
              "      <td>-0.734623</td>\n",
              "    </tr>\n",
              "    <tr>\n",
              "      <th>1</th>\n",
              "      <td>-1.189064</td>\n",
              "      <td>0.334812</td>\n",
              "    </tr>\n",
              "    <tr>\n",
              "      <th>2</th>\n",
              "      <td>0.195435</td>\n",
              "      <td>0.802618</td>\n",
              "    </tr>\n",
              "  </tbody>\n",
              "</table>\n",
              "</div>"
            ],
            "text/plain": [
              "        pc1       pc2\n",
              "0 -0.531217 -0.734623\n",
              "1 -1.189064  0.334812\n",
              "2  0.195435  0.802618"
            ]
          },
          "execution_count": 53,
          "metadata": {},
          "output_type": "execute_result"
        }
      ],
      "source": [
        "# train data set\n",
        "df_train = pd.DataFrame(df_train, columns=['pc1', 'pc2'])\n",
        "df_train.head(3)"
      ]
    },
    {
      "cell_type": "code",
      "execution_count": null,
      "id": "45262568",
      "metadata": {
        "id": "45262568",
        "outputId": "b2d8a133-4816-4e61-c292-0cfdbf2a548e"
      },
      "outputs": [
        {
          "data": {
            "text/html": [
              "<div>\n",
              "<style scoped>\n",
              "    .dataframe tbody tr th:only-of-type {\n",
              "        vertical-align: middle;\n",
              "    }\n",
              "\n",
              "    .dataframe tbody tr th {\n",
              "        vertical-align: top;\n",
              "    }\n",
              "\n",
              "    .dataframe thead th {\n",
              "        text-align: right;\n",
              "    }\n",
              "</style>\n",
              "<table border=\"1\" class=\"dataframe\">\n",
              "  <thead>\n",
              "    <tr style=\"text-align: right;\">\n",
              "      <th></th>\n",
              "      <th>pc1</th>\n",
              "      <th>pc2</th>\n",
              "    </tr>\n",
              "  </thead>\n",
              "  <tbody>\n",
              "    <tr>\n",
              "      <th>0</th>\n",
              "      <td>-0.801139</td>\n",
              "      <td>-0.056112</td>\n",
              "    </tr>\n",
              "    <tr>\n",
              "      <th>1</th>\n",
              "      <td>-1.569432</td>\n",
              "      <td>-1.625027</td>\n",
              "    </tr>\n",
              "    <tr>\n",
              "      <th>2</th>\n",
              "      <td>2.394820</td>\n",
              "      <td>-1.051593</td>\n",
              "    </tr>\n",
              "  </tbody>\n",
              "</table>\n",
              "</div>"
            ],
            "text/plain": [
              "        pc1       pc2\n",
              "0 -0.801139 -0.056112\n",
              "1 -1.569432 -1.625027\n",
              "2  2.394820 -1.051593"
            ]
          },
          "execution_count": 54,
          "metadata": {},
          "output_type": "execute_result"
        }
      ],
      "source": [
        "# train data set\n",
        "df_test = pd.DataFrame(df_test, columns=['pc1', 'pc2'])\n",
        "df_test.head(3)"
      ]
    },
    {
      "cell_type": "code",
      "execution_count": null,
      "id": "7f712b19",
      "metadata": {
        "id": "7f712b19",
        "outputId": "4c379cc6-ebdb-442a-c788-b7a82e0ea0de"
      },
      "outputs": [
        {
          "name": "stdout",
          "output_type": "stream",
          "text": [
            "(130, 2)\n",
            "(70, 2)\n"
          ]
        }
      ],
      "source": [
        "# show the data shape\n",
        "print(df_train.shape) #130 rows  2 cols\n",
        "print(df_test.shape)   #70 rows  2 cols"
      ]
    },
    {
      "cell_type": "code",
      "execution_count": null,
      "id": "d55350b0",
      "metadata": {
        "id": "d55350b0",
        "outputId": "d874a213-ed3e-4d01-a563-f06e2e0d7c6c"
      },
      "outputs": [
        {
          "name": "stdout",
          "output_type": "stream",
          "text": [
            "the average silhouette score of train data is 0.5801302502979514\n"
          ]
        }
      ],
      "source": [
        "model = KMeans(n_clusters=4, random_state=42)\n",
        "df_train['Cluster'] = model.fit_predict(df_train)\n",
        "centers_train = kmeans.cluster_centers_\n",
        "silhouette_avg = silhouette_score\\\n",
        "                 (df_train, df_train['Cluster'])\n",
        "print(\"the average silhouette score of train data is\", silhouette_avg)"
      ]
    },
    {
      "cell_type": "code",
      "execution_count": null,
      "id": "2373c26e",
      "metadata": {
        "id": "2373c26e",
        "outputId": "d196e49e-43ea-41e5-ba28-d6147be87296"
      },
      "outputs": [
        {
          "name": "stdout",
          "output_type": "stream",
          "text": [
            "[[ 0.97771498 -0.49877873]\n",
            " [-1.04671072  0.65699063]\n",
            " [-1.09453687 -1.11878664]\n",
            " [ 0.99540827  1.10926194]]\n"
          ]
        }
      ],
      "source": [
        "print(centers_train) # show the cluster centers"
      ]
    },
    {
      "cell_type": "code",
      "execution_count": null,
      "id": "4a095ed9",
      "metadata": {
        "id": "4a095ed9",
        "outputId": "fae4ee7d-6721-47de-e044-64dfb18fc6ba"
      },
      "outputs": [
        {
          "name": "stdout",
          "output_type": "stream",
          "text": [
            "the average silhouette score of test data is 0.6024311888724854\n"
          ]
        }
      ],
      "source": [
        "df_test['Cluster'] = model.predict(df_test)\n",
        "silhouette_avg = silhouette_score\\\n",
        "                 (df_test,df_test['Cluster'])\n",
        "print(\"the average silhouette score of test data is\", silhouette_avg)"
      ]
    },
    {
      "cell_type": "code",
      "execution_count": null,
      "id": "d47e293c",
      "metadata": {
        "id": "d47e293c",
        "outputId": "69c3cba8-cb37-493c-f946-172e09769a6b"
      },
      "outputs": [
        {
          "data": {
            "image/png": "[encoded data removed]",
            "text/plain": [
              "<Figure size 432x288 with 1 Axes>"
            ]
          },
          "metadata": {},
          "output_type": "display_data"
        }
      ],
      "source": [
        "colors = ['pink', 'lightblue', 'lightgreen', 'orange']   # Define colors for each cluster\n",
        "\n",
        "for clust in range(df_test.Cluster.nunique()):\n",
        "    temp = df_train[df_train.Cluster == clust]\n",
        "    plt.scatter(temp.pc1, temp.pc2, \\\n",
        "                #marker=markers[clust], \\\n",
        "                color=colors[clust])\n",
        "\n",
        "# Plot the clusters and centroids\n",
        "plt.scatter(centers_train[:, 0], centers_train[:, 1], c='black', marker='x', s=100)\n",
        "plt.xlabel(\"Income\")\n",
        "plt.ylabel(\"Spend_score\")\n",
        "plt.title(\"K-means Clustering of train data\")\n",
        "plt.show()\n"
      ]
    },
    {
      "cell_type": "code",
      "execution_count": null,
      "id": "fad13595",
      "metadata": {
        "id": "fad13595",
        "outputId": "8329287a-ac83-4db7-a408-ada0b0694ab9"
      },
      "outputs": [
        {
          "data": {
            "image/png": "[encoded data removed]",
            "text/plain": [
              "<Figure size 432x288 with 1 Axes>"
            ]
          },
          "metadata": {},
          "output_type": "display_data"
        }
      ],
      "source": [
        "colors = ['pink', 'lightblue', 'lightgreen', 'orange']  # Define colors for each cluster\n",
        "\n",
        "for clust in range(df_test.Cluster.nunique()):\n",
        "    temp = df_test[df_test.Cluster == clust]\n",
        "    plt.scatter(temp.pc1, temp.pc2, \\\n",
        "                #marker=markers[clust], \\\n",
        "                color=colors[clust])\n",
        "    centers = kmeans.cluster_centers_\n",
        "\n",
        "# Plot the clusters and centroids\n",
        "plt.scatter(centers_train[:, 0], centers_train[:, 1], c='black', marker='x', s=100)\n",
        "plt.xlabel(\"Income\")\n",
        "plt.ylabel(\"Spend_score\")\n",
        "plt.title(\"K-means Clustering of test data\")\n",
        "plt.show()"
      ]
    },
    {
      "cell_type": "markdown",
      "id": "1669daac",
      "metadata": {
        "id": "1669daac"
      },
      "source": [
        "### 6. Summary"
      ]
    },
    {
      "cell_type": "markdown",
      "id": "60e1049c",
      "metadata": {
        "id": "60e1049c"
      },
      "source": [
        "The advantage of machine learning-based clustering is its ability to expedite the segmentation process and discover patterns without requiring extensive domain knowledge. There are various methods available for ML clustering, such as K-means, K-medians, and hierarchical clustering, each with its own strengths and limitations. In our specific case, K-means necessitates predefining the number of clusters (K), whereas hierarchical clustering can generate cluster groups based on different K values. It is crucial to compare the results of these techniques objectively.\n",
        "\n",
        "Moreover, the choice of the number of segments (K) should align with business requirements. Fewer segments can provide a simplified and interpretable understanding of customers, while more segments allow for a finer-grained customer segmentation. However, the clusters, regardless of their quality, hold no significance if they are not actionable for the business. Non-actionability can arise in two ways:\n",
        "\n",
        "- The clusters lack business rationale.\n",
        "- The number of clusters is excessively large.\n",
        "\n",
        "In essence, machine learning techniques must consider business value and strategy to ensure that the insights derived are meaningful and actionable. By doing so, these insights become invaluable and can drive impactful business decisions."
      ]
    },
    {
      "cell_type": "markdown",
      "id": "233c4120",
      "metadata": {
        "id": "233c4120"
      },
      "source": [
        "### 7. Reference:"
      ]
    },
    {
      "cell_type": "markdown",
      "id": "44224c48",
      "metadata": {
        "id": "44224c48"
      },
      "source": [
        "- Baig, M. R., Govindan, G., & Shrimali, V. R. (2021). Data Science for Marketing Analytics: A practical guide to forming a killer marketing strategy through data analysis with Python (2nd ed.), Chapter 3: Unsupervised Learning and\n",
        "Customer Segmentation (pp. 113-159). Packt Publishing.\n",
        "- Sagar, A. (2019, August 24). Customer Segmentation Using K Means Clustering. https://towardsdatascience.com/customer-segmentation-using-k-means-clustering-d33964f238c3."
      ]
    }
  ],
  "metadata": {
    "kernelspec": {
      "display_name": "Python 3 (ipykernel)",
      "language": "python",
      "name": "python3"
    },
    "language_info": {
      "codemirror_mode": {
        "name": "ipython",
        "version": 3
      },
      "file_extension": ".py",
      "mimetype": "text/x-python",
      "name": "python",
      "nbconvert_exporter": "python",
      "pygments_lexer": "ipython3",
      "version": "3.9.12"
    },
    "colab": {
      "provenance": [],
      "include_colab_link": true
    }
  },
  "nbformat": 4,
  "nbformat_minor": 5
}